{
  "nbformat": 4,
  "nbformat_minor": 0,
  "metadata": {
    "colab": {
      "provenance": []
    },
    "kernelspec": {
      "display_name": "Python 3",
      "name": "python3"
    }
  },
  "cells": [
    {
      "cell_type": "markdown",
      "metadata": {
        "id": "GfpGFXXM1HB-"
      },
      "source": [
        "\n",
        "# Ongoing Research\n",
        "\n"
      ]
    },
    {
      "cell_type": "code",
      "metadata": {
        "id": "DbVH-kgbjxt9"
      },
      "source": [
        "import pandas as pd\n",
        "import numpy as np\n",
        "import matplotlib.pyplot as plt\n",
        "import seaborn as sns"
      ],
      "execution_count": null,
      "outputs": []
    },
    {
      "cell_type": "code",
      "metadata": {
        "colab": {
          "resources": {
            "http://localhost:8080/nbextensions/google.colab/files.js": {
              "data": "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",
              "ok": true,
              "headers": [
                [
                  "content-type",
                  "application/javascript"
                ]
              ],
              "status": 200,
              "status_text": ""
            }
          },
          "base_uri": "https://localhost:8080/",
          "height": 72
        },
        "id": "8r2vsIVKkCo-",
        "outputId": "1cbd271b-3383-47f0-8b2a-b713feccafd3"
      },
      "source": [
        "from google.colab import files\n",
        "uploaded = files.upload()"
      ],
      "execution_count": null,
      "outputs": [
        {
          "output_type": "display_data",
          "data": {
            "text/html": [
              "\n",
              "     <input type=\"file\" id=\"files-fa969902-3476-400c-a6c2-5e4c6ebdf057\" name=\"files[]\" multiple disabled\n",
              "        style=\"border:none\" />\n",
              "     <output id=\"result-fa969902-3476-400c-a6c2-5e4c6ebdf057\">\n",
              "      Upload widget is only available when the cell has been executed in the\n",
              "      current browser session. Please rerun this cell to enable.\n",
              "      </output>\n",
              "      <script src=\"/nbextensions/google.colab/files.js\"></script> "
            ],
            "text/plain": [
              "<IPython.core.display.HTML object>"
            ]
          },
          "metadata": {
            "tags": []
          }
        },
        {
          "output_type": "stream",
          "text": [
            "Saving df_dyslexia.csv to df_dyslexia (1).csv\n"
          ],
          "name": "stdout"
        }
      ]
    },
    {
      "cell_type": "code",
      "metadata": {
        "id": "2_Mbs8ZvkaMN"
      },
      "source": [
        "import io\n",
        "\n",
        "df = pd.read_csv(io.BytesIO(uploaded['df_dyslexia.csv']))"
      ],
      "execution_count": null,
      "outputs": []
    },
    {
      "cell_type": "code",
      "metadata": {
        "id": "qrGbIk9Ij4D9"
      },
      "source": [
        "df.head()"
      ],
      "execution_count": null,
      "outputs": []
    },
    {
      "cell_type": "code",
      "metadata": {
        "id": "hKj09CYZkXBU"
      },
      "source": [
        "df.info()"
      ],
      "execution_count": null,
      "outputs": []
    },
    {
      "cell_type": "code",
      "metadata": {
        "id": "3-O6lJTgmd_c"
      },
      "source": [
        "df.isnull().sum()"
      ],
      "execution_count": null,
      "outputs": []
    },
    {
      "cell_type": "code",
      "metadata": {
        "id": "9yrneBlWmd6D"
      },
      "source": [
        "x_features=list(df.columns)\n",
        "x_features.remove('Dyslexia')"
      ],
      "execution_count": null,
      "outputs": []
    },
    {
      "cell_type": "code",
      "metadata": {
        "id": "_Kl8QGJjmd3s"
      },
      "source": [
        "x_features_categorical=[\n",
        " 'Gender','Nativelang','Otherlang']\n",
        "x_features_categorical"
      ],
      "execution_count": null,
      "outputs": []
    },
    {
      "cell_type": "code",
      "metadata": {
        "id": "O5y7yhWOmdsT"
      },
      "source": [
        "x_features_numerical=[i for i in x_features if i not in x_features_categorical]\n",
        "x_features_numerical"
      ],
      "execution_count": null,
      "outputs": []
    },
    {
      "cell_type": "code",
      "metadata": {
        "id": "MmOyeKPSmdpp"
      },
      "source": [
        "df.nunique()"
      ],
      "execution_count": null,
      "outputs": []
    },
    {
      "cell_type": "code",
      "metadata": {
        "id": "lpxWoTFDmdnK"
      },
      "source": [
        "df.Dyslexia.value_counts()"
      ],
      "execution_count": null,
      "outputs": []
    },
    {
      "cell_type": "code",
      "metadata": {
        "id": "1Xx5m4PjmdkY"
      },
      "source": [
        "# create two plots side by side\n",
        "f, ax = plt.subplots(1,2,figsize=(14,6))\n",
        "df['Dyslexia'].value_counts().plot.pie(autopct='%1.1f%%', ax=ax[0], shadow = True)\n",
        "ax[0].set_title('Dyslexia')\n",
        "ax[0].set_ylabel('')\n",
        "sns.countplot('Dyslexia', data=df, ax=ax[1])\n",
        "plt.show()"
      ],
      "execution_count": null,
      "outputs": []
    },
    {
      "cell_type": "code",
      "metadata": {
        "id": "CL6fodPHmdfm"
      },
      "source": [
        "print(\"Density Plots\");print()\n",
        "for i in impute[x_features_numerical]:\n",
        "        print('*'*100)\n",
        "        sns.distplot(impute[i])\n",
        "        plt.title(i)\n",
        "        plt.show()"
      ],
      "execution_count": null,
      "outputs": []
    },
    {
      "cell_type": "markdown",
      "metadata": {
        "id": "uA4L5HZul2qZ"
      },
      "source": [
        "## Missing Value Imputation"
      ]
    },
    {
      "cell_type": "code",
      "metadata": {
        "id": "Z6Rhtzxap8NW"
      },
      "source": [
        "import sys\n",
        "from fancyimpute import KNN\n",
        "from sklearn.model_selection import cross_val_score\n",
        "from sklearn.model_selection import StratifiedKFold\n",
        "sys.setrecursionlimit(100000) #Increase the recursion limit of the OS\n",
        "from sklearn.ensemble import RandomForestClassifier\n",
        "\n",
        "rf = RandomForestClassifier(n_estimators=1000,\n",
        "                           max_depth=None,\n",
        "                           min_samples_split=10)\n",
        "\n",
        "X = df.drop('Dyslexia', axis = 1)\n",
        "Y = df['Dyslexia']\n",
        "\n",
        "def standardize(s):\n",
        "    return s.sub(s.min()).div((s.max() - s.min()))\n",
        "\n",
        "kvals = np.linspace(1, 100, 20, dtype='int64')\n",
        "Xnorm = df.apply(standardize, axis=0)\n",
        "\n",
        "# start the KNN training\n",
        "knn_errs = []\n",
        "for k in kvals:\n",
        "    knn_err = []\n",
        "    Xknn = KNN(k=k, verbose=False).fit_transform(Xnorm)\n",
        "    knn_err = cross_val_score(rf, Xknn, Y, cv=10, n_jobs=-1).mean()\n",
        "\n",
        "    knn_errs.append(knn_err)\n",
        "    print(\"[KNN] Estimated RF Test Error (n = {}, k = {}, 10-fold CV): {}\".format(len(Xknn), k, np.mean(knn_err)))"
      ],
      "execution_count": null,
      "outputs": []
    },
    {
      "cell_type": "code",
      "metadata": {
        "id": "8SjF6lePp7-N"
      },
      "source": [
        "knn_errs"
      ],
      "execution_count": null,
      "outputs": []
    },
    {
      "cell_type": "code",
      "metadata": {
        "id": "7KAqrZojGr2w"
      },
      "source": [
        "Xknn"
      ],
      "execution_count": null,
      "outputs": []
    },
    {
      "cell_type": "code",
      "metadata": {
        "id": "57WLzNh6p77Z"
      },
      "source": [
        "col = X.columns\n",
        "col = list(col)\n",
        "\n",
        "\n",
        "col.append('Dyslexia')\n",
        "col"
      ],
      "execution_count": null,
      "outputs": []
    },
    {
      "cell_type": "code",
      "metadata": {
        "id": "HI5hX8pkJ52F"
      },
      "source": [
        "df = pd.DataFrame(data = Xknn,\n",
        "                  columns = col)"
      ],
      "execution_count": null,
      "outputs": []
    },
    {
      "cell_type": "code",
      "metadata": {
        "id": "F54Lqv4lGlYk"
      },
      "source": [
        "df.drop('Dyslexia', axis = 1)"
      ],
      "execution_count": null,
      "outputs": []
    },
    {
      "cell_type": "code",
      "metadata": {
        "colab": {
          "base_uri": "https://localhost:8080/",
          "height": 17
        },
        "id": "OLDG9ZEldfID",
        "outputId": "74dfceb6-77cc-4a51-fb67-77b9f07f1d9f"
      },
      "source": [
        "df.to_csv('dyslexia_desktop_imputed.csv')\n",
        "files.download('dyslexia_desktop_imputed.csv')"
      ],
      "execution_count": null,
      "outputs": [
        {
          "output_type": "display_data",
          "data": {
            "application/javascript": [
              "\n",
              "    async function download(id, filename, size) {\n",
              "      if (!google.colab.kernel.accessAllowed) {\n",
              "        return;\n",
              "      }\n",
              "      const div = document.createElement('div');\n",
              "      const label = document.createElement('label');\n",
              "      label.textContent = `Downloading \"${filename}\": `;\n",
              "      div.appendChild(label);\n",
              "      const progress = document.createElement('progress');\n",
              "      progress.max = size;\n",
              "      div.appendChild(progress);\n",
              "      document.body.appendChild(div);\n",
              "\n",
              "      const buffers = [];\n",
              "      let downloaded = 0;\n",
              "\n",
              "      const channel = await google.colab.kernel.comms.open(id);\n",
              "      // Send a message to notify the kernel that we're ready.\n",
              "      channel.send({})\n",
              "\n",
              "      for await (const message of channel.messages) {\n",
              "        // Send a message to notify the kernel that we're ready.\n",
              "        channel.send({})\n",
              "        if (message.buffers) {\n",
              "          for (const buffer of message.buffers) {\n",
              "            buffers.push(buffer);\n",
              "            downloaded += buffer.byteLength;\n",
              "            progress.value = downloaded;\n",
              "          }\n",
              "        }\n",
              "      }\n",
              "      const blob = new Blob(buffers, {type: 'application/binary'});\n",
              "      const a = document.createElement('a');\n",
              "      a.href = window.URL.createObjectURL(blob);\n",
              "      a.download = filename;\n",
              "      div.appendChild(a);\n",
              "      a.click();\n",
              "      div.remove();\n",
              "    }\n",
              "  "
            ],
            "text/plain": [
              "<IPython.core.display.Javascript object>"
            ]
          },
          "metadata": {
            "tags": []
          }
        },
        {
          "output_type": "display_data",
          "data": {
            "application/javascript": [
              "download(\"download_7d5993ca-2a20-4888-bed6-8d9bd440d9de\", \"dyslexia_desktop_imputed.csv\", 3989277)"
            ],
            "text/plain": [
              "<IPython.core.display.Javascript object>"
            ]
          },
          "metadata": {
            "tags": []
          }
        }
      ]
    },
    {
      "cell_type": "code",
      "metadata": {
        "colab": {
          "resources": {
            "http://localhost:8080/nbextensions/google.colab/files.js": {
              "data": "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",
              "ok": true,
              "headers": [
                [
                  "content-type",
                  "application/javascript"
                ]
              ],
              "status": 200,
              "status_text": ""
            }
          },
          "base_uri": "https://localhost:8080/",
          "height": 72
        },
        "id": "cB8J11rbgC5b",
        "outputId": "9727c2ee-0903-489c-e356-91e35048e020"
      },
      "source": [
        "from google.colab import files\n",
        "uploaded = files.upload()"
      ],
      "execution_count": null,
      "outputs": [
        {
          "output_type": "display_data",
          "data": {
            "text/html": [
              "\n",
              "     <input type=\"file\" id=\"files-4077ab99-057b-44f2-b22e-d68203ba7e35\" name=\"files[]\" multiple disabled\n",
              "        style=\"border:none\" />\n",
              "     <output id=\"result-4077ab99-057b-44f2-b22e-d68203ba7e35\">\n",
              "      Upload widget is only available when the cell has been executed in the\n",
              "      current browser session. Please rerun this cell to enable.\n",
              "      </output>\n",
              "      <script src=\"/nbextensions/google.colab/files.js\"></script> "
            ],
            "text/plain": [
              "<IPython.core.display.HTML object>"
            ]
          },
          "metadata": {
            "tags": []
          }
        },
        {
          "output_type": "stream",
          "text": [
            "Saving dyslexia_desktop_imputed.csv to dyslexia_desktop_imputed (1).csv\n"
          ],
          "name": "stdout"
        }
      ]
    },
    {
      "cell_type": "code",
      "metadata": {
        "id": "b1SFis2TgC5k"
      },
      "source": [
        "import io\n",
        "\n",
        "df = pd.read_csv(io.BytesIO(uploaded['dyslexia_desktop_imputed.csv']))"
      ],
      "execution_count": null,
      "outputs": []
    },
    {
      "cell_type": "code",
      "metadata": {
        "id": "10rEssqwgm51"
      },
      "source": [
        "df"
      ],
      "execution_count": null,
      "outputs": []
    },
    {
      "cell_type": "code",
      "metadata": {
        "colab": {
          "base_uri": "https://localhost:8080/"
        },
        "id": "pBtYDSENLalm",
        "outputId": "369407d2-24ff-46a0-fdfb-e85377ab9a55"
      },
      "source": [
        "df.Dyslexia.value_counts()"
      ],
      "execution_count": null,
      "outputs": [
        {
          "output_type": "execute_result",
          "data": {
            "text/plain": [
              "0.0    1247\n",
              "1.0     148\n",
              "Name: Dyslexia, dtype: int64"
            ]
          },
          "metadata": {
            "tags": []
          },
          "execution_count": 24
        }
      ]
    },
    {
      "cell_type": "code",
      "metadata": {
        "id": "fKRHi8S-Otu9"
      },
      "source": [
        "df.isnull().sum().sum()"
      ],
      "execution_count": null,
      "outputs": []
    },
    {
      "cell_type": "code",
      "metadata": {
        "id": "4v-FNApmRs1i"
      },
      "source": [
        "count_Dyslexia = pd.value_counts(df['Dyslexia'], sort = True)\n",
        "count_Dyslexia.plot(kind = 'bar', rot=0)\n",
        "plt.title(\"Data Representation (No Dyslexia = 0, Dyslexia = 1)\")\n",
        "\n",
        "LABELS = [\"No Dyslexia\", \"Dyslexia\"]\n",
        "plt.xticks(range(2), LABELS)\n",
        "plt.xlabel(\"Dyslexia\")\n",
        "plt.ylabel(\"Frequency\");"
      ],
      "execution_count": null,
      "outputs": []
    },
    {
      "cell_type": "code",
      "metadata": {
        "id": "xCLFV6VNTr7L"
      },
      "source": [
        "# X = np.array(df.iloc[:, df.columns != 'Dyslexia'])\n",
        "# y = np.array(df.iloc[:, df.columns == 'Dyslexia'])\n",
        "\n",
        "X = df.drop('Dyslexia', axis = 1)\n",
        "y = df['Dyslexia']\n",
        "\n",
        "print('Shape of X: {}'.format(X.shape))\n",
        "print('Shape of y: {}'.format(y.shape))"
      ],
      "execution_count": null,
      "outputs": []
    },
    {
      "cell_type": "code",
      "metadata": {
        "id": "OBTwCiH2WskH"
      },
      "source": [
        "# Generate and plot a synthetic imbalanced classification dataset\n",
        "from collections import Counter\n",
        "# from sklearn.datasets import make_classification\n",
        "from matplotlib import pyplot\n",
        "from numpy import where\n",
        "# define dataset\n",
        "X = df.drop('Dyslexia', axis = 1)\n",
        "y = df['Dyslexia']\n",
        "# summarize class distribution\n",
        "counter = Counter(y)\n",
        "print(counter)\n",
        "# scatter plot of examples by class label\n",
        "for label, _ in counter.items():\n",
        "\trow_ix = where(y == label)[0]\n",
        "\tpyplot.scatter(X[row_ix, 0], X[row_ix, 1], label=str(label))\n",
        "pyplot.legend()\n",
        "pyplot.show()"
      ],
      "execution_count": null,
      "outputs": []
    },
    {
      "cell_type": "markdown",
      "metadata": {
        "id": "hRygoAWlPwpv"
      },
      "source": [
        "## Train-Test-Split"
      ]
    },
    {
      "cell_type": "code",
      "metadata": {
        "id": "YP5plxawq9vl"
      },
      "source": [
        "from sklearn.model_selection import cross_validate, RepeatedStratifiedKFold, learning_curve,  cross_val_score, RandomizedSearchCV, train_test_split, StratifiedKFold\n",
        "from sklearn.neighbors import KNeighborsClassifier\n",
        "from sklearn.tree import DecisionTreeClassifier\n",
        "from sklearn.svm import SVC\n",
        "from sklearn.ensemble import RandomForestClassifier, AdaBoostClassifier, GradientBoostingClassifier, IsolationForest\n",
        "from sklearn.linear_model import LogisticRegression\n",
        "from sklearn.neural_network import MLPClassifier\n",
        "from sklearn.naive_bayes import GaussianNB\n",
        "# from sklearn.preprocessing import KBinsDiscretizer\n",
        "# from sklearn.covariance import EllipticEnvelope\n",
        "from sklearn.decomposition import PCA\n",
        "from sklearn.ensemble import ExtraTreesClassifier\n",
        "import xgboost as xgb\n",
        "\n",
        "from sklearn.metrics import classification_report, accuracy_score, auc\n",
        "from sklearn.metrics import roc_auc_score\n",
        "from sklearn.metrics import roc_curve\n",
        "from sklearn import metrics\n",
        "from sklearn.metrics import confusion_matrix\n",
        "from sklearn.model_selection import RepeatedKFold\n",
        "from sklearn.model_selection import cross_val_score\n",
        "from numpy import mean\n",
        "from numpy import std\n",
        "from sklearn.preprocessing import StandardScaler, RobustScaler"
      ],
      "execution_count": null,
      "outputs": []
    },
    {
      "cell_type": "code",
      "metadata": {
        "id": "COxw_vFFWq-Z"
      },
      "source": [
        "RS = RobustScaler()\n",
        "df_scaled = pd.DataFrame(RS.fit_transform(X), columns = X.columns) # as scaling mandotory for KNN model\n",
        "\n",
        "X_train,X_test,y_train,y_test = train_test_split(X,y, test_size = 0.3, random_state = 1)\n",
        "X_train1,X_test1,y_train,y_test = train_test_split(df_scaled,y, test_size = 0.3, random_state = 1) # for KNN"
      ],
      "execution_count": null,
      "outputs": []
    },
    {
      "cell_type": "code",
      "metadata": {
        "id": "WAnUYOvgrnWe"
      },
      "source": [
        "results_test = {}\n",
        "results_train = {}\n",
        "list_algos=[]\n",
        "\n",
        "def predict(algo_name,X_train,y_train,X_test,y_test, atype='',verbose=0):\n",
        "    algo_name.fit(X_train, y_train)\n",
        "    Y_pred = algo_name.predict(X_test)\n",
        "    acc_train = round(algo_name.score(X_train, y_train) * 100, 2)\n",
        "    acc_val = round(algo_name.score(X_test, y_test) * 100, 2)\n",
        "\n",
        "    results_test[str(algo_name)[0:str(algo_name).find('(')]+'_'+str(atype)] = acc_val\n",
        "    results_train[str(algo_name)[0:str(algo_name).find('(')]+'_'+str(atype)] = acc_train\n",
        "    list_algos.append(str(algo_name)[0:str(algo_name).find('(')])\n",
        "    if verbose ==0:\n",
        "        print(\"Training Accuracy: \" + str(acc_train))\n",
        "        print(\"Testing  Accuracy: \"+ str(acc_val))\n",
        "    else:\n",
        "        return Y_pred\n"
      ],
      "execution_count": null,
      "outputs": []
    },
    {
      "cell_type": "markdown",
      "metadata": {
        "id": "p7YrhShoWlfn"
      },
      "source": [
        "## Apply Classifiers after Imputation"
      ]
    },
    {
      "cell_type": "code",
      "metadata": {
        "id": "um0turAnrmUM"
      },
      "source": [
        "# KNN\n",
        "\n",
        "knneig = KNeighborsClassifier(n_neighbors=10)\n",
        "knneig.fit(X_train1, y_train)\n",
        "# pred_knneigh = knneig.predict(X_test1)\n",
        "# score_knneigh_before = accuracy_score(y_test, pred_knneigh)\n",
        "# print(score_knneigh_before)\n",
        "predict(knneig,X_train1,y_train,X_test1,y_test)\n",
        "print(classification_report(y_test, knneig.predict(X_test1)))\n",
        "\n",
        "# prepare the cross-validation procedure\n",
        "cv = RepeatedKFold(n_splits=10, n_repeats=3, random_state=1)\n",
        "# evaluate model\n",
        "scores = cross_val_score(knneig, X, y, scoring='accuracy', cv=cv, n_jobs=-1)\n",
        "# report performance\n",
        "print('Cross Validation Score: %.3f (%.3f)' % (mean(scores), std(scores)))\n"
      ],
      "execution_count": null,
      "outputs": []
    },
    {
      "cell_type": "code",
      "metadata": {
        "id": "4VFDHKD7sMYU"
      },
      "source": [
        "#RF\n",
        "\n",
        "rf = RandomForestClassifier(n_estimators=250, random_state = 0)\n",
        "predict(rf,X_train,y_train,X_test,y_test)\n",
        "print(classification_report(y_test, rf.predict(X_test)))\n",
        "\n",
        "# prepare the cross-validation procedure\n",
        "cv = RepeatedStratifiedKFold(n_splits=10, n_repeats=3, random_state=1)\n",
        "# evaluate model\n",
        "scores = cross_val_score(rf, X, y, scoring='accuracy', cv=cv, n_jobs=-1)\n",
        "# report performance\n",
        "print('Cross Validation Score: %.3f (%.3f)' % (mean(scores), std(scores)))\n"
      ],
      "execution_count": null,
      "outputs": []
    },
    {
      "cell_type": "code",
      "metadata": {
        "id": "YCAP4qHjscpa"
      },
      "source": [
        "#LR\n",
        "\n",
        "lr = LogisticRegression(solver='lbfgs')\n",
        "predict(lr,X_train,y_train,X_test,y_test)\n",
        "print(classification_report(y_test, lr.predict(X_test)))\n",
        "\n",
        "# prepare the cross-validation procedure\n",
        "cv = RepeatedStratifiedKFold(n_splits=10, n_repeats=3, random_state=1)\n",
        "# evaluate model\n",
        "scores = cross_val_score(lr, X, y, scoring='accuracy', cv=cv, n_jobs=-1)\n",
        "# report performance\n",
        "print('Cross Validation Score: %.3f (%.3f)' % (mean(scores), std(scores)))"
      ],
      "execution_count": null,
      "outputs": []
    },
    {
      "cell_type": "code",
      "metadata": {
        "id": "vaiZn2OusmhT"
      },
      "source": [
        "# GBC\n",
        "\n",
        "gbc = GradientBoostingClassifier()\n",
        "predict(gbc,X_train,y_train,X_test,y_test)\n",
        "print(classification_report(y_test, gbc.predict(X_test)))\n",
        "\n",
        "# prepare the cross-validation procedure\n",
        "cv = RepeatedKFold(n_splits=10, n_repeats=3, random_state=1)\n",
        "# evaluate model\n",
        "scores = cross_val_score(gbc, X, y, scoring='accuracy', cv=cv, n_jobs=-1)\n",
        "# report performance\n",
        "print('Cross Validation Score: %.3f (%.3f)' % (mean(scores), std(scores)))"
      ],
      "execution_count": null,
      "outputs": []
    },
    {
      "cell_type": "code",
      "metadata": {
        "id": "-Jask02esxIz"
      },
      "source": [
        "# ADA\n",
        "\n",
        "ada = AdaBoostClassifier()\n",
        "predict(ada,X_train,y_train,X_test,y_test)\n",
        "print(classification_report(y_test, ada.predict(X_test)))\n",
        "\n",
        "# prepare the cross-validation procedure\n",
        "cv = RepeatedKFold(n_splits=10, n_repeats=3, random_state=1)\n",
        "# evaluate model\n",
        "scores = cross_val_score(ada, X, y, scoring='accuracy', cv=cv, n_jobs=-1)\n",
        "# report performance\n",
        "print('Cross Validation Score: %.3f (%.3f)' % (mean(scores), std(scores)))"
      ],
      "execution_count": null,
      "outputs": []
    },
    {
      "cell_type": "code",
      "metadata": {
        "id": "dfv48aQGs-BN"
      },
      "source": [
        "# DT\n",
        "\n",
        "dt = DecisionTreeClassifier()\n",
        "predict(dt,X_train,y_train,X_test,y_test)\n",
        "print(classification_report(y_test, dt.predict(X_test)))\n",
        "\n",
        "# prepare the cross-validation procedure\n",
        "cv = RepeatedKFold(n_splits=10, n_repeats=3, random_state=1)\n",
        "# evaluate model\n",
        "scores = cross_val_score(dt, X, y, scoring='accuracy', cv=cv, n_jobs=-1)\n",
        "# report performance\n",
        "print('Cross Validation Score: %.3f (%.3f)' % (mean(scores), std(scores)))"
      ],
      "execution_count": null,
      "outputs": []
    },
    {
      "cell_type": "code",
      "metadata": {
        "id": "vciv2CAftDPe"
      },
      "source": [
        "#GaussianNB\n",
        "\n",
        "nb = GaussianNB()\n",
        "predict(nb,X_train,y_train,X_test,y_test)\n",
        "print(classification_report(y_test, nb.predict(X_test)))\n",
        "\n",
        "# prepare the cross-validation procedure\n",
        "cv = RepeatedKFold(n_splits=10, n_repeats=3, random_state=1)\n",
        "# evaluate model\n",
        "scores = cross_val_score(nb, X, y, scoring='accuracy', cv=cv, n_jobs=-1)\n",
        "# report performance\n",
        "print('Cross Validation Score: %.3f (%.3f)' % (mean(scores), std(scores)))"
      ],
      "execution_count": null,
      "outputs": []
    },
    {
      "cell_type": "code",
      "metadata": {
        "id": "7w2_yWCItKrH"
      },
      "source": [
        "#xgb\n",
        "\n",
        "xg = xgb.XGBClassifier()\n",
        "predict(xg,X_train,y_train,X_test,y_test)\n",
        "print(classification_report(y_test, xg.predict(X_test)))\n",
        "\n",
        "# prepare the cross-validation procedure\n",
        "cv = RepeatedKFold(n_splits=10, n_repeats=3, random_state=1)\n",
        "# evaluate model\n",
        "scores = cross_val_score(xg, X, y, scoring='accuracy', cv=cv, n_jobs=-1)\n",
        "# report performance\n",
        "print('Cross Validation Score: %.3f (%.3f)' % (mean(scores), std(scores)))"
      ],
      "execution_count": null,
      "outputs": []
    },
    {
      "cell_type": "code",
      "metadata": {
        "id": "ZutzGPN2tVOj"
      },
      "source": [
        "#svc\n",
        "\n",
        "svc = SVC(kernel='linear', probability=True)\n",
        "predict(svc,X_train,y_train,X_test,y_test)\n",
        "print(classification_report(y_test, svc.predict(X_test)))\n",
        "\n",
        "# prepare the cross-validation procedure\n",
        "cv = RepeatedKFold(n_splits=10, n_repeats=3, random_state=1)\n",
        "# evaluate model\n",
        "scores = cross_val_score(svc, X, y, scoring='accuracy', cv=cv, n_jobs=-1)\n",
        "# report performance\n",
        "print('Cross Validation Score: %.3f (%.3f)' % (mean(scores), std(scores)))"
      ],
      "execution_count": null,
      "outputs": []
    },
    {
      "cell_type": "code",
      "metadata": {
        "id": "Ym4jlcjBtqz7"
      },
      "source": [
        "#MLP\n",
        "\n",
        "from sklearn.neural_network import MLPClassifier\n",
        "mlp = MLPClassifier(random_state=1)\n",
        "predict(mlp,X_train,y_train,X_test,y_test)\n",
        "print(classification_report(y_test, mlp.predict(X_test)))\n",
        "\n",
        "# prepare the cross-validation procedure\n",
        "cv = RepeatedKFold(n_splits=10, n_repeats=3, random_state=1)\n",
        "# evaluate model\n",
        "scores = cross_val_score(mlp, X, y, scoring='accuracy', cv=cv, n_jobs=-1)\n",
        "# report performance\n",
        "print('Cross Validation Score: %.3f (%.3f)' % (mean(scores), std(scores)))"
      ],
      "execution_count": null,
      "outputs": []
    },
    {
      "cell_type": "code",
      "metadata": {
        "id": "kEMa1plOtcS7"
      },
      "source": [
        "# ROC Curve\n",
        "\n",
        "r_probs = [0 for _ in range(len(y_test))]\n",
        "KNN_probs = knneig.predict_proba(X_test1)\n",
        "RF_probs = rf.predict_proba(X_test)\n",
        "GBC_probs = gbc.predict_proba(X_test)\n",
        "ADA_probs = ada.predict_proba(X_test)\n",
        "LR_probs = lr.predict_proba(X_test)\n",
        "svc_probs = svc.predict_proba(X_test)\n",
        "mlp_probs = mlp.predict_proba(X_test)\n",
        "\n",
        "\n",
        "KNN_probs = KNN_probs[:, 1]\n",
        "RF_probs = RF_probs[:, 1]\n",
        "GBC_probs = GBC_probs[:, 1]\n",
        "LR_probs = LR_probs[:, 1]\n",
        "ADA_probs = ADA_probs[:, 1]\n",
        "svc_probs = svc_probs[:, 1]\n",
        "mlp_probs = mlp_probs[:, 1]\n",
        "\n",
        "\n",
        "r_auc = roc_auc_score(y_test, r_probs)\n",
        "KNN_auc = roc_auc_score(y_test, KNN_probs)\n",
        "RF_auc = roc_auc_score(y_test, RF_probs)\n",
        "GBC_auc = roc_auc_score(y_test, GBC_probs)\n",
        "LR_auc = roc_auc_score(y_test, LR_probs)\n",
        "ADA_auc = roc_auc_score(y_test, ADA_probs)\n",
        "svc_auc = roc_auc_score(y_test, svc_probs)\n",
        "mlp_auc = roc_auc_score(y_test, mlp_probs)\n",
        "\n",
        "r_fpr, r_tpr, _ = roc_curve(y_test, r_probs)\n",
        "KNN_fpr, KNN_tpr, _ = roc_curve(y_test, KNN_probs)\n",
        "RF_fpr, RF_tpr, _ = roc_curve(y_test, RF_probs)\n",
        "GBC_fpr, GBC_tpr, _ = roc_curve(y_test, GBC_probs)\n",
        "LR_fpr, LR_tpr, _ = roc_curve(y_test, LR_probs)\n",
        "ADA_fpr, ADA_tpr, _ = roc_curve(y_test, ADA_probs)\n",
        "svc_fpr, svc_tpr, _ = roc_curve(y_test, svc_probs)\n",
        "mlp_fpr, mlp_tpr, _ = roc_curve(y_test, mlp_probs)"
      ],
      "execution_count": null,
      "outputs": []
    },
    {
      "cell_type": "code",
      "metadata": {
        "id": "S0lm-mQA0ZEE"
      },
      "source": [
        "plt.figure(figsize=(16,8))\n",
        "plt.plot(r_fpr, r_tpr, linestyle='--')\n",
        "#plt.plot(rf_fpr, rf_tpr, marker='.', label='Random Forest (AUROC = %0.3f)' % rf_auc)\n",
        "plt.plot(KNN_fpr, KNN_tpr, label='KNN (AUROC = %0.3f)' % KNN_auc)\n",
        "plt.plot(RF_fpr, RF_tpr, label='RF (AUROC = %0.3f)' % RF_auc)\n",
        "plt.plot(GBC_fpr, GBC_tpr, label='GBC (AUROC = %0.3f)' % GBC_auc)\n",
        "plt.plot(LR_fpr, LR_tpr, label='LR (AUROC = %0.3f)' % LR_auc)\n",
        "plt.plot(ADA_fpr, ADA_tpr, label='ADA (AUROC = %0.3f)' % ADA_auc)\n",
        "plt.plot(svc_fpr, svc_tpr, label='SVC (AUROC = %0.3f)' % svc_auc)\n",
        "plt.plot(mlp_fpr, mlp_tpr, label='MLP (AUROC = %0.3f)' % mlp_auc)\n",
        "\n",
        "\n",
        "\n",
        "# Title\n",
        "plt.title('ROC Plot')\n",
        "# Axis labels\n",
        "plt.xlabel('False Positive Rate')\n",
        "plt.ylabel('True Positive Rate')\n",
        "# Show legend\n",
        "plt.legend() #\n",
        "# Show plot\n",
        "plt.show()"
      ],
      "execution_count": null,
      "outputs": []
    },
    {
      "cell_type": "markdown",
      "metadata": {
        "id": "gbreMbIvTJfR"
      },
      "source": [
        "## Over Sampling Technique"
      ]
    },
    {
      "cell_type": "code",
      "metadata": {
        "id": "5XDpUPAFTOMA"
      },
      "source": [
        "from imblearn.over_sampling import SMOTE\n",
        "\n",
        "from sklearn.model_selection import train_test_split\n",
        "\n",
        "X_train, X_test, y_train, y_test = train_test_split(X, y, test_size=0.3, random_state=0)\n",
        "# X_train1,X_test1,y_train,y_test = train_test_split(df_scaled,y, test_size = 0.3, random_state = 1) # for KNN\n",
        "\n",
        "print(\"Number transactions X_train dataset: \", X_train.shape)\n",
        "print(\"Number transactions y_train dataset: \", y_train.shape)\n",
        "print(\"Number transactions X_test dataset: \", X_test.shape)\n",
        "print(\"Number transactions y_test dataset: \", y_test.shape)"
      ],
      "execution_count": null,
      "outputs": []
    },
    {
      "cell_type": "code",
      "metadata": {
        "id": "xroPEOmVURXI"
      },
      "source": [
        "print(\"Before OverSampling, counts of label '1': {}\".format(sum(y_train==1)))\n",
        "print(\"Before OverSampling, counts of label '0': {} \\n\".format(sum(y_train==0)))\n",
        "\n",
        "sm = SMOTE(random_state=2)\n",
        "X_train_res, y_train_res = sm.fit_sample(X_train, y_train.ravel())\n",
        "X_train_res1, y_train_res1 = sm.fit_sample(X_train1, y_train.ravel())\n",
        "\n",
        "print('After OverSampling, the shape of train_X: {}'.format(X_train_res.shape))\n",
        "print('After OverSampling, the shape of train_y: {} \\n'.format(y_train_res.shape))\n",
        "\n",
        "print(\"After OverSampling, counts of label '1': {}\".format(sum(y_train_res==1)))\n",
        "print(\"After OverSampling, counts of label '0': {}\".format(sum(y_train_res==0)))"
      ],
      "execution_count": null,
      "outputs": []
    },
    {
      "cell_type": "code",
      "metadata": {
        "id": "ZHHk8vVijRvo"
      },
      "source": [
        "import numpy as np\n",
        "import pandas as pd\n",
        "\n",
        "y_train_res = y_train_res.reshape(-1, 1)\n",
        "data_res = np.concatenate((X_train_res, y_train_res), axis = 1)\n",
        "# data.savetxt('sample_smote.csv', data_res, delimiter=\",\")\n",
        "data_res.to_csv('dyslexia_desktop_balanced.csv')\n",
        "files.download('dyslexia_desktop_balanced.csv')"
      ],
      "execution_count": null,
      "outputs": []
    },
    {
      "cell_type": "code",
      "metadata": {
        "id": "An4pPQuOwjwf"
      },
      "source": [
        "sns.countplot(y_train_res, linewidth=2,edgecolor=sns.color_palette(\"dark\",3))\n",
        "y_train_res.value_counts()"
      ],
      "execution_count": null,
      "outputs": []
    },
    {
      "cell_type": "code",
      "metadata": {
        "id": "OBpA4qjlP3UD"
      },
      "source": [
        "# KNN\n",
        "\n",
        "knneig = KNeighborsClassifier(n_neighbors=10)\n",
        "knneig.fit(X_train_res, y_train_res)\n",
        "# pred_knneigh = knneig.predict(X_test1)\n",
        "# score_knneigh_before = accuracy_score(y_test, pred_knneigh)\n",
        "# print(score_knneigh_before)\n",
        "predict(knneig,X_train_res,y_train_res,X_test,y_test)\n",
        "print(classification_report(y_test, knneig.predict(X_test)))\n",
        "\n",
        "# # prepare the cross-validation procedure\n",
        "# cv = RepeatedKFold(n_splits=10, n_repeats=3, random_state=1)\n",
        "# # evaluate model\n",
        "# scores = cross_val_score(knneig, X, y, scoring='accuracy', cv=cv, n_jobs=-1)\n",
        "# # report performance\n",
        "# print('Cross Validation Score: %.3f (%.3f)' % (mean(scores), std(scores)))\n"
      ],
      "execution_count": null,
      "outputs": []
    },
    {
      "cell_type": "code",
      "metadata": {
        "id": "zztgNwWbGQ1k"
      },
      "source": [
        "#RF\n",
        "\n",
        "rf = RandomForestClassifier(n_estimators=250, random_state = 0)\n",
        "predict(rf,X_train_res,y_train_res,X_test,y_test)\n",
        "print(classification_report(y_test, rf.predict(X_test)))\n",
        "\n",
        "# # prepare the cross-validation procedure\n",
        "# cv = RepeatedStratifiedKFold(n_splits=10, n_repeats=3, random_state=1)\n",
        "# # evaluate model\n",
        "# scores = cross_val_score(rf, X, y, scoring='accuracy', cv=cv, n_jobs=-1)\n",
        "# # report performance\n",
        "# print('Cross Validation Score: %.3f (%.3f)' % (mean(scores), std(scores)))\n"
      ],
      "execution_count": null,
      "outputs": []
    },
    {
      "cell_type": "code",
      "metadata": {
        "id": "QLWAyYwjHu21"
      },
      "source": [
        "#LR\n",
        "\n",
        "lr = LogisticRegression(solver='lbfgs')\n",
        "predict(lr,X_train_res,y_train_res,X_test,y_test)\n",
        "print(classification_report(y_test, lr.predict(X_test)))\n",
        "\n",
        "# # prepare the cross-validation procedure\n",
        "# cv = RepeatedStratifiedKFold(n_splits=10, n_repeats=3, random_state=1)\n",
        "# # evaluate model\n",
        "# scores = cross_val_score(lr, X, y, scoring='accuracy', cv=cv, n_jobs=-1)\n",
        "# # report performance\n",
        "# print('Cross Validation Score: %.3f (%.3f)' % (mean(scores), std(scores)))"
      ],
      "execution_count": null,
      "outputs": []
    },
    {
      "cell_type": "code",
      "metadata": {
        "id": "qY4mJlINICF4"
      },
      "source": [
        "# GBC\n",
        "\n",
        "gbc = GradientBoostingClassifier()\n",
        "predict(gbc,X_train_res,y_train_res,X_test,y_test)\n",
        "print(classification_report(y_test, gbc.predict(X_test)))\n",
        "\n",
        "# # prepare the cross-validation procedure\n",
        "# cv = RepeatedKFold(n_splits=10, n_repeats=3, random_state=1)\n",
        "# # evaluate model\n",
        "# scores = cross_val_score(gbc, X, y, scoring='accuracy', cv=cv, n_jobs=-1)\n",
        "# # report performance\n",
        "# print('Cross Validation Score: %.3f (%.3f)' % (mean(scores), std(scores)))"
      ],
      "execution_count": null,
      "outputs": []
    },
    {
      "cell_type": "code",
      "metadata": {
        "id": "lrld5R-PIP05"
      },
      "source": [
        "# ADA\n",
        "\n",
        "ada = AdaBoostClassifier()\n",
        "predict(ada,X_train_res,y_train_res,X_test,y_test)\n",
        "print(classification_report(y_test, ada.predict(X_test)))\n",
        "\n",
        "# # prepare the cross-validation procedure\n",
        "# cv = RepeatedKFold(n_splits=10, n_repeats=3, random_state=1)\n",
        "# # evaluate model\n",
        "# scores = cross_val_score(ada, X, y, scoring='accuracy', cv=cv, n_jobs=-1)\n",
        "# # report performance\n",
        "# print('Cross Validation Score: %.3f (%.3f)' % (mean(scores), std(scores)))"
      ],
      "execution_count": null,
      "outputs": []
    },
    {
      "cell_type": "code",
      "metadata": {
        "id": "b5Ggy_pCInNn"
      },
      "source": [
        "# DT\n",
        "\n",
        "dt = DecisionTreeClassifier()\n",
        "predict(dt,X_train_res,y_train_res,X_test,y_test)\n",
        "print(classification_report(y_test, dt.predict(X_test)))\n",
        "\n",
        "# # prepare the cross-validation procedure\n",
        "# cv = RepeatedKFold(n_splits=10, n_repeats=3, random_state=1)\n",
        "# # evaluate model\n",
        "# scores = cross_val_score(dt, X, y, scoring='accuracy', cv=cv, n_jobs=-1)\n",
        "# # report performance\n",
        "# print('Cross Validation Score: %.3f (%.3f)' % (mean(scores), std(scores)))"
      ],
      "execution_count": null,
      "outputs": []
    },
    {
      "cell_type": "code",
      "metadata": {
        "id": "LB5UNR3xInJ5"
      },
      "source": [
        "#GaussianNB\n",
        "\n",
        "nb = GaussianNB()\n",
        "predict(nb,X_train_res,y_train_res,X_test,y_test)\n",
        "print(classification_report(y_test, nb.predict(X_test)))\n",
        "\n",
        "# # prepare the cross-validation procedure\n",
        "# cv = RepeatedKFold(n_splits=10, n_repeats=3, random_state=1)\n",
        "# # evaluate model\n",
        "# scores = cross_val_score(nb, X, y, scoring='accuracy', cv=cv, n_jobs=-1)\n",
        "# # report performance\n",
        "# print('Cross Validation Score: %.3f (%.3f)' % (mean(scores), std(scores)))"
      ],
      "execution_count": null,
      "outputs": []
    },
    {
      "cell_type": "code",
      "metadata": {
        "id": "nf8-EcS2KtRU"
      },
      "source": [
        "#xgb\n",
        "\n",
        "xg = xgb.XGBClassifier()\n",
        "predict(xg,X_train_res,y_train_res,X_test,y_test)\n",
        "print(classification_report(y_test, xg.predict(X_test)))\n",
        "\n",
        "# # prepare the cross-validation procedure\n",
        "# cv = RepeatedKFold(n_splits=10, n_repeats=3, random_state=1)\n",
        "# # evaluate model\n",
        "# scores = cross_val_score(xg, X, y, scoring='accuracy', cv=cv, n_jobs=-1)\n",
        "# # report performance\n",
        "# print('Cross Validation Score: %.3f (%.3f)' % (mean(scores), std(scores)))"
      ],
      "execution_count": null,
      "outputs": []
    },
    {
      "cell_type": "code",
      "metadata": {
        "id": "x13srEMtMEER"
      },
      "source": [
        "#svc\n",
        "\n",
        "svc = SVC(kernel='linear', probability=True)\n",
        "predict(svc,X_train_res,y_train_res,X_test,y_test)\n",
        "print(classification_report(y_test, svc.predict(X_test)))\n",
        "\n",
        "# # prepare the cross-validation procedure\n",
        "# cv = RepeatedKFold(n_splits=10, n_repeats=3, random_state=1)\n",
        "# # evaluate model\n",
        "# scores = cross_val_score(svc, X, y, scoring='accuracy', cv=cv, n_jobs=-1)\n",
        "# # report performance\n",
        "# print('Cross Validation Score: %.3f (%.3f)' % (mean(scores), std(scores)))"
      ],
      "execution_count": null,
      "outputs": []
    },
    {
      "cell_type": "code",
      "metadata": {
        "id": "i2AVyFkGMPqS"
      },
      "source": [
        "#MLP\n",
        "\n",
        "from sklearn.neural_network import MLPClassifier\n",
        "mlp = MLPClassifier(random_state=1)\n",
        "predict(mlp,X_train_res,y_train_res,X_test,y_test)\n",
        "print(classification_report(y_test, mlp.predict(X_test)))\n",
        "\n",
        "# # prepare the cross-validation procedure\n",
        "# cv = RepeatedKFold(n_splits=10, n_repeats=3, random_state=1)\n",
        "# # evaluate model\n",
        "# scores = cross_val_score(mlp, X, y, scoring='accuracy', cv=cv, n_jobs=-1)\n",
        "# # report performance\n",
        "# print('Cross Validation Score: %.3f (%.3f)' % (mean(scores), std(scores)))"
      ],
      "execution_count": null,
      "outputs": []
    },
    {
      "cell_type": "code",
      "metadata": {
        "id": "kEQX-wpGM-rB"
      },
      "source": [
        "# ROC Curve\n",
        "\n",
        "r_probs = [0 for _ in range(len(y_test))]\n",
        "KNN_probs = knneig.predict_proba(X_test)\n",
        "RF_probs = rf.predict_proba(X_test)\n",
        "GBC_probs = gbc.predict_proba(X_test)\n",
        "ADA_probs = ada.predict_proba(X_test)\n",
        "LR_probs = lr.predict_proba(X_test)\n",
        "svc_probs = svc.predict_proba(X_test)\n",
        "mlp_probs = mlp.predict_proba(X_test)\n",
        "\n",
        "\n",
        "KNN_probs = KNN_probs[:, 1]\n",
        "RF_probs = RF_probs[:, 1]\n",
        "GBC_probs = GBC_probs[:, 1]\n",
        "LR_probs = LR_probs[:, 1]\n",
        "ADA_probs = ADA_probs[:, 1]\n",
        "svc_probs = svc_probs[:, 1]\n",
        "mlp_probs = mlp_probs[:, 1]\n",
        "\n",
        "\n",
        "r_auc = roc_auc_score(y_test, r_probs)\n",
        "KNN_auc = roc_auc_score(y_test, KNN_probs)\n",
        "RF_auc = roc_auc_score(y_test, RF_probs)\n",
        "GBC_auc = roc_auc_score(y_test, GBC_probs)\n",
        "LR_auc = roc_auc_score(y_test, LR_probs)\n",
        "ADA_auc = roc_auc_score(y_test, ADA_probs)\n",
        "svc_auc = roc_auc_score(y_test, svc_probs)\n",
        "mlp_auc = roc_auc_score(y_test, mlp_probs)\n",
        "\n",
        "r_fpr, r_tpr, _ = roc_curve(y_test, r_probs)\n",
        "KNN_fpr, KNN_tpr, _ = roc_curve(y_test, KNN_probs)\n",
        "RF_fpr, RF_tpr, _ = roc_curve(y_test, RF_probs)\n",
        "GBC_fpr, GBC_tpr, _ = roc_curve(y_test, GBC_probs)\n",
        "LR_fpr, LR_tpr, _ = roc_curve(y_test, LR_probs)\n",
        "ADA_fpr, ADA_tpr, _ = roc_curve(y_test, ADA_probs)\n",
        "svc_fpr, svc_tpr, _ = roc_curve(y_test, svc_probs)\n",
        "mlp_fpr, mlp_tpr, _ = roc_curve(y_test, mlp_probs)"
      ],
      "execution_count": null,
      "outputs": []
    },
    {
      "cell_type": "code",
      "metadata": {
        "id": "_ml-zlYtM-oR"
      },
      "source": [
        "plt.figure(figsize=(16,8))\n",
        "plt.plot(r_fpr, r_tpr, linestyle='--')\n",
        "#plt.plot(rf_fpr, rf_tpr, marker='.', label='Random Forest (AUROC = %0.3f)' % rf_auc)\n",
        "plt.plot(KNN_fpr, KNN_tpr, label='KNN (AUROC = %0.3f)' % KNN_auc)\n",
        "plt.plot(RF_fpr, RF_tpr, label='RF (AUROC = %0.3f)' % RF_auc)\n",
        "plt.plot(GBC_fpr, GBC_tpr, label='GBC (AUROC = %0.3f)' % GBC_auc)\n",
        "plt.plot(LR_fpr, LR_tpr, label='LR (AUROC = %0.3f)' % LR_auc)\n",
        "plt.plot(ADA_fpr, ADA_tpr, label='ADA (AUROC = %0.3f)' % ADA_auc)\n",
        "plt.plot(svc_fpr, svc_tpr, label='SVC (AUROC = %0.3f)' % svc_auc)\n",
        "plt.plot(mlp_fpr, mlp_tpr, label='MLP (AUROC = %0.3f)' % mlp_auc)\n",
        "\n",
        "\n",
        "\n",
        "# Title\n",
        "plt.title('ROC Plot')\n",
        "# Axis labels\n",
        "plt.xlabel('False Positive Rate')\n",
        "plt.ylabel('True Positive Rate')\n",
        "# Show legend\n",
        "plt.legend() #\n",
        "# Show plot\n",
        "plt.show()"
      ],
      "execution_count": null,
      "outputs": []
    },
    {
      "cell_type": "markdown",
      "metadata": {
        "id": "we6ErN05NyK2"
      },
      "source": [
        "## Genetic Feature Algorithm Implementation"
      ]
    },
    {
      "cell_type": "code",
      "metadata": {
        "id": "uMTv_k2TN3mJ"
      },
      "source": [
        "X_train,X_test,y_train,y_test = train_test_split(X,y, test_size = 0.2, random_state = 1)\n",
        "\n",
        "import random\n",
        "def initilization_of_population(size,n_feat):\n",
        "    population = []\n",
        "    for i in range(size):\n",
        "        chromosome = np.ones(n_feat,dtype=np.bool)\n",
        "#         print(int(0.3*n_feat))\n",
        "        chromosome[:int(0.3*n_feat)]=False\n",
        "        np.random.shuffle(chromosome)\n",
        "        population.append(chromosome)\n",
        "    return population\n",
        "def fitness_score(population):\n",
        "    scores = []\n",
        "    for chromosome in population:\n",
        "        rf.fit(X_train.iloc[:,chromosome],y_train)\n",
        "        predictions = rf.predict(X_test.iloc[:,chromosome])\n",
        "        scores.append(accuracy_score(y_test,predictions))\n",
        "    scores, population = np.array(scores), np.array(population)\n",
        "    print(scores)\n",
        "    inds = np.argsort(scores)\n",
        "    return list(scores[inds][::-1]), list(population[inds,:][::-1])\n",
        "\n",
        "def selection(pop_after_fit,n_parents):\n",
        "    population_nextgen = []\n",
        "    for i in range(n_parents):\n",
        "        population_nextgen.append(pop_after_fit[i])\n",
        "    return population_nextgen\n",
        "\n",
        "def crossover(pop_after_sel):\n",
        "    population_nextgen=pop_after_sel\n",
        "    for i in range(len(pop_after_sel)):\n",
        "        child=pop_after_sel[i]\n",
        "        child[3:7]=pop_after_sel[(i+1)%len(pop_after_sel)][3:7]\n",
        "        population_nextgen.append(child)\n",
        "    return population_nextgen\n",
        "\n",
        "def mutation(pop_after_cross,mutation_rate):\n",
        "    population_nextgen = []\n",
        "    for i in range(0,len(pop_after_cross)):\n",
        "        chromosome = pop_after_cross[i]\n",
        "        for j in range(len(chromosome)):\n",
        "            if random.random() < mutation_rate:\n",
        "                chromosome[j]= not chromosome[j]\n",
        "        population_nextgen.append(chromosome)\n",
        "    print(population_nextgen)\n",
        "    return population_nextgen\n",
        "\n"
      ],
      "execution_count": null,
      "outputs": []
    },
    {
      "cell_type": "code",
      "metadata": {
        "id": "-ysYCVOdOWE-"
      },
      "source": [
        "def generations(size,n_feat,n_parents,mutation_rate,n_gen,X_train,\n",
        "                                   X_test, y_train, y_test):\n",
        "    best_chromo= []\n",
        "    best_score= []\n",
        "    population_nextgen=initilization_of_population(size,n_feat)\n",
        "    for i in range(n_gen):\n",
        "        print(\"No of gen: \"+ str(i))\n",
        "        scores, pop_after_fit = fitness_score(population_nextgen)\n",
        "        print(scores[:2])\n",
        "        pop_after_sel = selection(pop_after_fit,n_parents)\n",
        "        pop_after_cross = crossover(pop_after_sel)\n",
        "        population_nextgen = mutation(pop_after_cross,mutation_rate)\n",
        "        best_chromo.append(pop_after_fit[0])\n",
        "        best_score.append(scores[0])\n",
        "    return best_chromo,best_score"
      ],
      "execution_count": null,
      "outputs": []
    },
    {
      "cell_type": "code",
      "metadata": {
        "id": "W3UcEe15Ofn6"
      },
      "source": [
        "chromo,score=generations(size=500,n_feat=190,n_parents=10,mutation_rate=0.10,n_gen=3,X_train=X_train,X_test=X_test,y_train=y_train,y_test=y_test)"
      ],
      "execution_count": null,
      "outputs": []
    },
    {
      "cell_type": "code",
      "metadata": {
        "id": "uRVEND5MRuTy"
      },
      "source": [
        "print(chromo)"
      ],
      "execution_count": null,
      "outputs": []
    },
    {
      "cell_type": "code",
      "metadata": {
        "id": "I7VS8s9FR0JY"
      },
      "source": [
        "X_train_g = X_train.iloc[:,chromo[-1]]\n",
        "X_train_g"
      ],
      "execution_count": null,
      "outputs": []
    },
    {
      "cell_type": "code",
      "metadata": {
        "id": "Ivo7iVy7SzGm"
      },
      "source": [
        "X_test_g = X_test.iloc[:,chromo[-1]]\n",
        "X_test_g"
      ],
      "execution_count": null,
      "outputs": []
    },
    {
      "cell_type": "code",
      "metadata": {
        "id": "uxquWSrcSHIL"
      },
      "source": [
        "# KNN\n",
        "\n",
        "knneig = KNeighborsClassifier(n_neighbors=10)\n",
        "knneig.fit(X_train_g, y_train)\n",
        "# pred_knneigh = knneig.predict(X_test_g)\n",
        "# score_knneigh_before = accuracy_score(y_test, pred_knneigh)\n",
        "# print(score_knneigh_before)\n",
        "predict(knneig,X_train_g,y_train,X_test_g,y_test)\n",
        "print(classification_report(y_test, knneig.predict(X_test_g)))\n",
        "\n",
        "# # prepare the cross-validation procedure\n",
        "# cv = RepeatedKFold(n_splits=10, n_repeats=3, random_state=1)\n",
        "# # evaluate model\n",
        "# scores = cross_val_score(knneig, X, y, scoring='accuracy', cv=cv, n_jobs=-1)\n",
        "# # report performance\n",
        "# print('Cross Validation Score: %.3f (%.3f)' % (mean(scores), std(scores)))\n"
      ],
      "execution_count": null,
      "outputs": []
    },
    {
      "cell_type": "code",
      "metadata": {
        "id": "dMkIYeuSTMyG"
      },
      "source": [
        "#RF\n",
        "\n",
        "rf = RandomForestClassifier(n_estimators=250, random_state = 0)\n",
        "predict(rf,X_train_g,y_train,X_test_g,y_test)\n",
        "print(classification_report(y_test, rf.predict(X_test_g)))\n",
        "\n",
        "# # prepare the cross-validation procedure\n",
        "# cv = RepeatedStratifiedKFold(n_splits=10, n_repeats=3, random_state=1)\n",
        "# # evaluate model\n",
        "# scores = cross_val_score(rf, X, y, scoring='accuracy', cv=cv, n_jobs=-1)\n",
        "# # report performance\n",
        "# print('Cross Validation Score: %.3f (%.3f)' % (mean(scores), std(scores)))\n"
      ],
      "execution_count": null,
      "outputs": []
    },
    {
      "cell_type": "code",
      "metadata": {
        "id": "o3sNUBO3TjH7"
      },
      "source": [
        "#LR\n",
        "\n",
        "lr = LogisticRegression(solver='lbfgs')\n",
        "predict(lr,X_train_g,y_train,X_test_g,y_test)\n",
        "print(classification_report(y_test, lr.predict(X_test_g)))\n",
        "\n",
        "# prepare the cross-validation procedure\n",
        "cv = RepeatedStratifiedKFold(n_splits=10, n_repeats=3, random_state=1)\n",
        "# evaluate model\n",
        "scores = cross_val_score(lr, X_test_g, y_test, scoring='accuracy', cv=cv, n_jobs=-1)\n",
        "# report performance\n",
        "print('Cross Validation Score: %.3f (%.3f)' % (mean(scores), std(scores)))"
      ],
      "execution_count": null,
      "outputs": []
    },
    {
      "cell_type": "code",
      "metadata": {
        "id": "AAvt2bmJTu-e"
      },
      "source": [
        "# GBC\n",
        "\n",
        "gbc = GradientBoostingClassifier()\n",
        "predict(gbc,X_train_g,y_train,X_test_g,y_test)\n",
        "print(classification_report(y_test, gbc.predict(X_test_g)))\n",
        "\n",
        "# # prepare the cross-validation procedure\n",
        "# cv = RepeatedKFold(n_splits=10, n_repeats=3, random_state=1)\n",
        "# # evaluate model\n",
        "# scores = cross_val_score(gbc, X, y, scoring='accuracy', cv=cv, n_jobs=-1)\n",
        "# # report performance\n",
        "# print('Cross Validation Score: %.3f (%.3f)' % (mean(scores), std(scores)))"
      ],
      "execution_count": null,
      "outputs": []
    },
    {
      "cell_type": "code",
      "metadata": {
        "id": "GqaVpX24UlN1"
      },
      "source": [
        "# ADA\n",
        "\n",
        "ada = AdaBoostClassifier()\n",
        "predict(ada,X_train_g,y_train,X_test_g,y_test)\n",
        "print(classification_report(y_test, ada.predict(X_test_g)))\n",
        "\n",
        "# # prepare the cross-validation procedure\n",
        "# cv = RepeatedKFold(n_splits=10, n_repeats=3, random_state=1)\n",
        "# # evaluate model\n",
        "# scores = cross_val_score(ada, X, y, scoring='accuracy', cv=cv, n_jobs=-1)\n",
        "# # report performance\n",
        "# print('Cross Validation Score: %.3f (%.3f)' % (mean(scores), std(scores)))"
      ],
      "execution_count": null,
      "outputs": []
    },
    {
      "cell_type": "code",
      "metadata": {
        "id": "aO8mbTXyU2jG"
      },
      "source": [
        "# DT\n",
        "\n",
        "dt = DecisionTreeClassifier()\n",
        "predict(dt,X_train_g,y_train,X_test_g,y_test)\n",
        "print(classification_report(y_test, dt.predict(X_test_g)))\n",
        "\n",
        "# # prepare the cross-validation procedure\n",
        "# cv = RepeatedKFold(n_splits=10, n_repeats=3, random_state=1)\n",
        "# # evaluate model\n",
        "# scores = cross_val_score(dt, X, y, scoring='accuracy', cv=cv, n_jobs=-1)\n",
        "# # report performance\n",
        "# print('Cross Validation Score: %.3f (%.3f)' % (mean(scores), std(scores)))"
      ],
      "execution_count": null,
      "outputs": []
    },
    {
      "cell_type": "code",
      "metadata": {
        "id": "kMSUSFkDVFwN"
      },
      "source": [
        "#GaussianNB\n",
        "\n",
        "nb = GaussianNB()\n",
        "predict(nb,X_train_g,y_train,X_test_g,y_test)\n",
        "print(classification_report(y_test, nb.predict(X_test_g)))\n",
        "\n",
        "# # prepare the cross-validation procedure\n",
        "# cv = RepeatedKFold(n_splits=10, n_repeats=3, random_state=1)\n",
        "# # evaluate model\n",
        "# scores = cross_val_score(nb, X, y, scoring='accuracy', cv=cv, n_jobs=-1)\n",
        "# # report performance\n",
        "# print('Cross Validation Score: %.3f (%.3f)' % (mean(scores), std(scores)))"
      ],
      "execution_count": null,
      "outputs": []
    },
    {
      "cell_type": "code",
      "metadata": {
        "id": "8QoDZaivYyOV"
      },
      "source": [
        "#xgb\n",
        "\n",
        "xg = xgb.XGBClassifier()\n",
        "predict(xg,X_train_g,y_train,X_test_g,y_test)\n",
        "print(classification_report(y_test, xg.predict(X_test_g)))\n",
        "\n",
        "# # prepare the cross-validation procedure\n",
        "# cv = RepeatedKFold(n_splits=10, n_repeats=3, random_state=1)\n",
        "# # evaluate model\n",
        "# scores = cross_val_score(xg, X, y, scoring='accuracy', cv=cv, n_jobs=-1)\n",
        "# # report performance\n",
        "# print('Cross Validation Score: %.3f (%.3f)' % (mean(scores), std(scores)))"
      ],
      "execution_count": null,
      "outputs": []
    },
    {
      "cell_type": "code",
      "metadata": {
        "id": "CEofm2UxZCgt"
      },
      "source": [
        "#svc\n",
        "\n",
        "svc = SVC(kernel='linear', probability=True)\n",
        "predict(svc,X_train_g,y_train,X_test_g,y_test)\n",
        "print(classification_report(y_test, svc.predict(X_test_g)))\n",
        "\n",
        "# # prepare the cross-validation procedure\n",
        "# cv = RepeatedKFold(n_splits=10, n_repeats=3, random_state=1)\n",
        "# # evaluate model\n",
        "# scores = cross_val_score(svc, X, y, scoring='accuracy', cv=cv, n_jobs=-1)\n",
        "# # report performance\n",
        "# print('Cross Validation Score: %.3f (%.3f)' % (mean(scores), std(scores)))"
      ],
      "execution_count": null,
      "outputs": []
    },
    {
      "cell_type": "code",
      "metadata": {
        "id": "_dVsq1PnZVMY"
      },
      "source": [
        "#MLP\n",
        "\n",
        "from sklearn.neural_network import MLPClassifier\n",
        "mlp = MLPClassifier(random_state=1)\n",
        "predict(mlp,X_train_g,y_train,X_test_g,y_test)\n",
        "print(classification_report(y_test, mlp.predict(X_test_g)))\n",
        "\n",
        "# # prepare the cross-validation procedure\n",
        "# cv = RepeatedKFold(n_splits=10, n_repeats=3, random_state=1)\n",
        "# # evaluate model\n",
        "# scores = cross_val_score(mlp, X, y, scoring='accuracy', cv=cv, n_jobs=-1)\n",
        "# # report performance\n",
        "# print('Cross Validation Score: %.3f (%.3f)' % (mean(scores), std(scores)))"
      ],
      "execution_count": null,
      "outputs": []
    },
    {
      "cell_type": "code",
      "metadata": {
        "id": "5Wxf4pnwZi03"
      },
      "source": [
        "# ROC Curve\n",
        "\n",
        "r_probs = [0 for _ in range(len(y_test))]\n",
        "KNN_probs = knneig.predict_proba(X_test_g)\n",
        "RF_probs = rf.predict_proba(X_test_g)\n",
        "GBC_probs = gbc.predict_proba(X_test_g)\n",
        "ADA_probs = ada.predict_proba(X_test_g)\n",
        "LR_probs = lr.predict_proba(X_test_g)\n",
        "svc_probs = svc.predict_proba(X_test_g)\n",
        "mlp_probs = mlp.predict_proba(X_test_g)\n",
        "\n",
        "\n",
        "KNN_probs = KNN_probs[:, 1]\n",
        "RF_probs = RF_probs[:, 1]\n",
        "GBC_probs = GBC_probs[:, 1]\n",
        "LR_probs = LR_probs[:, 1]\n",
        "ADA_probs = ADA_probs[:, 1]\n",
        "svc_probs = svc_probs[:, 1]\n",
        "mlp_probs = mlp_probs[:, 1]\n",
        "\n",
        "\n",
        "r_auc = roc_auc_score(y_test, r_probs)\n",
        "KNN_auc = roc_auc_score(y_test, KNN_probs)\n",
        "RF_auc = roc_auc_score(y_test, RF_probs)\n",
        "GBC_auc = roc_auc_score(y_test, GBC_probs)\n",
        "LR_auc = roc_auc_score(y_test, LR_probs)\n",
        "ADA_auc = roc_auc_score(y_test, ADA_probs)\n",
        "svc_auc = roc_auc_score(y_test, svc_probs)\n",
        "mlp_auc = roc_auc_score(y_test, mlp_probs)\n",
        "\n",
        "r_fpr, r_tpr, _ = roc_curve(y_test, r_probs)\n",
        "KNN_fpr, KNN_tpr, _ = roc_curve(y_test, KNN_probs)\n",
        "RF_fpr, RF_tpr, _ = roc_curve(y_test, RF_probs)\n",
        "GBC_fpr, GBC_tpr, _ = roc_curve(y_test, GBC_probs)\n",
        "LR_fpr, LR_tpr, _ = roc_curve(y_test, LR_probs)\n",
        "ADA_fpr, ADA_tpr, _ = roc_curve(y_test, ADA_probs)\n",
        "svc_fpr, svc_tpr, _ = roc_curve(y_test, svc_probs)\n",
        "mlp_fpr, mlp_tpr, _ = roc_curve(y_test, mlp_probs)"
      ],
      "execution_count": null,
      "outputs": []
    },
    {
      "cell_type": "code",
      "metadata": {
        "id": "zeRhFVVjZt_t"
      },
      "source": [
        "plt.figure(figsize=(16,8))\n",
        "plt.plot(r_fpr, r_tpr, linestyle='--')\n",
        "#plt.plot(rf_fpr, rf_tpr, marker='.', label='Random Forest (AUROC = %0.3f)' % rf_auc)\n",
        "plt.plot(KNN_fpr, KNN_tpr, label='KNN (AUROC = %0.3f)' % KNN_auc)\n",
        "plt.plot(RF_fpr, RF_tpr, label='RF (AUROC = %0.3f)' % RF_auc)\n",
        "plt.plot(GBC_fpr, GBC_tpr, label='GBC (AUROC = %0.3f)' % GBC_auc)\n",
        "plt.plot(LR_fpr, LR_tpr, label='LR (AUROC = %0.3f)' % LR_auc)\n",
        "plt.plot(ADA_fpr, ADA_tpr, label='ADA (AUROC = %0.3f)' % ADA_auc)\n",
        "plt.plot(svc_fpr, svc_tpr, label='SVC (AUROC = %0.3f)' % svc_auc)\n",
        "plt.plot(mlp_fpr, mlp_tpr, label='MLP (AUROC = %0.3f)' % mlp_auc)\n",
        "\n",
        "\n",
        "\n",
        "# Title\n",
        "plt.title('ROC Plot')\n",
        "# Axis labels\n",
        "plt.xlabel('False Positive Rate')\n",
        "plt.ylabel('True Positive Rate')\n",
        "# Show legend\n",
        "plt.legend() #\n",
        "# Show plot\n",
        "plt.show()"
      ],
      "execution_count": null,
      "outputs": []
    },
    {
      "cell_type": "markdown",
      "metadata": {
        "id": "na9XNDv1Z4_c"
      },
      "source": [
        "## Tpot Classifier"
      ]
    },
    {
      "cell_type": "code",
      "metadata": {
        "id": "eCmVQsMydRN-"
      },
      "source": [
        "!pip install tpot"
      ],
      "execution_count": null,
      "outputs": []
    },
    {
      "cell_type": "code",
      "metadata": {
        "id": "d3weqXeVZ8MZ"
      },
      "source": [
        "from sklearn.model_selection import RepeatedStratifiedKFold\n",
        "from tpot import TPOTClassifier\n",
        "import sklearn.metrics\n",
        "import timeit\n",
        "import os\n",
        "\n",
        "# define model evaluation\n",
        "# cv = RepeatedStratifiedKFold(n_splits=10, n_repeats=3, random_state=1)\n",
        "# # define search\n",
        "# tpot = TPOTClassifier(generations=10, population_size=100, cv=cv, scoring='balanced_accuracy', verbosity=3, random_state=23, n_jobs=-1, periodic_checkpoint_folder=\"datasets/tpot_cerv1.txt\")\n",
        "\n",
        "# # perform the search 5 times,\n",
        "\n",
        "# for x in range(5):\n",
        "#     start_time = timeit.default_timer()\n",
        "#     tpot.fit(X_train, y_train)\n",
        "#     elapsed = timeit.default_timer() - start_time\n",
        "#     times.append(elapsed)\n",
        "#     winning_pipes.append(tpot.fitted_pipeline_)\n",
        "#     scores.append(tpot.score(X_test, y_test))\n",
        "#     # tpot.export('tpot_cervical_pipeline.py')\n",
        "\n",
        "# times = [time/60 for time in times]\n"
      ],
      "execution_count": null,
      "outputs": []
    },
    {
      "cell_type": "code",
      "metadata": {
        "id": "ripYFgEBdffz"
      },
      "source": [
        "model = TPOTClassifier(generations=3, population_size=50, cv=cv, scoring='accuracy', verbosity=2, random_state=1, n_jobs=-1)\n",
        "# perform the search\n",
        "model.fit(X_train_g, y_train)\n",
        "# export the best model\n",
        "model.export('tpot_dyslexia_model.py')\n"
      ],
      "execution_count": null,
      "outputs": []
    },
    {
      "cell_type": "code",
      "metadata": {
        "id": "c35qzFk2waGV"
      },
      "source": [
        "model.export('tpot_dyslexia_model.py')"
      ],
      "execution_count": null,
      "outputs": []
    },
    {
      "cell_type": "code",
      "metadata": {
        "id": "dHT6XzRalV9h"
      },
      "source": [
        "pipe = GradientBoostingClassifier(learning_rate=0.1, max_depth=8, max_features=0.6000000000000001, min_samples_leaf=14, min_samples_split=13, n_estimators=100, subsample=0.8500000000000001)\n",
        "predict(pipe,X_train_g,y_train,X_test_g,y_test)\n",
        "print(classification_report(y_test, pipe.predict(X_test_g)))"
      ],
      "execution_count": null,
      "outputs": []
    }
  ]
}